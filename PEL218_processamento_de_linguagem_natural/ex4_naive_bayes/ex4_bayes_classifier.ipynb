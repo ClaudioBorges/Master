{
 "cells": [
  {
   "cell_type": "markdown",
   "metadata": {},
   "source": [
    "# PEL218 - Atividade 4\n",
    "Processamento de Linguagem Narual (Prof. Guilherme Wachs)\n",
    "\n",
    "Claudio Aparecido Borges Junior (RA 120122-7)"
   ]
  },
  {
   "cell_type": "markdown",
   "metadata": {},
   "source": [
    "## Atividade 4\n",
    "\n",
    "* Escolher qualquer base de dados para classificação de textos;\n",
    "* Modelar Naive Bayes;\n",
    "  * Siga o passo-a-passo de tratamento de texto de baixo nível;\n",
    "  * Pode usar Regex;\n",
    "  * Pode usar embeddings.\n",
    "* Fazer uma melhoria no modelo;\n",
    "* Medir resultados e comparar os 2 modelos;\n",
    "* Cuidado com Plágios!"
   ]
  },
  {
   "cell_type": "markdown",
   "metadata": {},
   "source": [
    "## Resposta\n",
    "\n",
    "### Base de dados\n",
    "\n",
    "Foi utilizada a base de dados `BBC Full Text Document Classification` ([link](shorturl.at/bBKOZ)) que contém 2225 documentos em inglês do website `BBC News` compreendendo 5 áreas distintas de 2004 até 2005, sendo elas: negócios, entretenimento, política, esportes e tecnologia. \n",
    "\n",
    "Fonte: D. Greene and P. Cunningham. \"Practical Solutions to the Problem of Diagonal Dominance in Kernel Document Clustering\", Proc. ICML 2006"
   ]
  },
  {
   "cell_type": "code",
   "execution_count": 1,
   "metadata": {},
   "outputs": [],
   "source": [
    "import collections\n",
    "import operator\n",
    "import os\n",
    "import pprint\n",
    "import re\n",
    "\n",
    "import matplotlib.pyplot as plt\n",
    "import numpy as np\n",
    "\n",
    "from scipy.sparse import lil_matrix, csr_matrix"
   ]
  },
  {
   "cell_type": "code",
   "execution_count": 2,
   "metadata": {},
   "outputs": [],
   "source": [
    "# Create a full file paths' generator of all files downloaded for the classification\n",
    "bbc_data_path = 'bbc_classification/bbc-fulltext (document classification)/bbc/'\n",
    "\n",
    "# Create a a labeled file paths' list using the folder name as the label\n",
    "# The first element is the file path and the second is the label\n",
    "labeled_files = [(os.path.join(dir_name, file_name), dir_name.split('/')[-1])\n",
    "                 for dir_name, _, file_names in os.walk(bbc_data_path)\n",
    "                 for file_name in file_names if file_name != 'README.TXT']"
   ]
  },
  {
   "cell_type": "markdown",
   "metadata": {},
   "source": [
    " ### Funções auxiliares"
   ]
  },
  {
   "cell_type": "code",
   "execution_count": 3,
   "metadata": {},
   "outputs": [],
   "source": [
    "def read_document(file):\n",
    "    # Read a file and return its content\n",
    "    with open(file, 'r', encoding='latin-1') as f:\n",
    "        return f.read()"
   ]
  },
  {
   "cell_type": "code",
   "execution_count": 4,
   "metadata": {},
   "outputs": [],
   "source": [
    "def split_title_text(content):\n",
    "    # Split the document into text and title assuming the first line is the title\n",
    "    splitted = content.split('\\n')\n",
    "    title = splitted[0]\n",
    "    text = '\\n'.join(splitted[1:])\n",
    "    return title, text,"
   ]
  },
  {
   "cell_type": "code",
   "execution_count": 5,
   "metadata": {},
   "outputs": [],
   "source": [
    "def tokenize(text):\n",
    "    text = text.lower()\n",
    "    text = re.sub('\\n', ' ', text)\n",
    "    text = re.sub('[,.+=]', ' ', text)\n",
    "    text = re.sub('[0-9]', '', text)\n",
    "    text = re.sub('\\s+', ' ', text)\n",
    "    text = text.strip()\n",
    "    return text.split(' ')"
   ]
  },
  {
   "cell_type": "markdown",
   "metadata": {},
   "source": [
    "### Análise da base de dados\n",
    "\n",
    "A base de dados é dividida em 5 classes não balanceadas. Cada classe possuí uma quantidade específica de documentos conforme distribuição abaixo:"
   ]
  },
  {
   "cell_type": "code",
   "execution_count": 6,
   "metadata": {},
   "outputs": [
    {
     "data": {
      "text/plain": [
       "Text(0.5, 1.0, 'Distribuição dos documentos')"
      ]
     },
     "execution_count": 6,
     "metadata": {},
     "output_type": "execute_result"
    },
    {
     "data": {
      "image/png": "[encoded data removed]",
      "text/plain": [
       "<Figure size 432x288 with 1 Axes>"
      ]
     },
     "metadata": {
      "needs_background": "light"
     },
     "output_type": "display_data"
    }
   ],
   "source": [
    "labels_counter = collections.Counter([label for _, label in labeled_files])\n",
    "plt.bar(labels_counter.keys(), labels_counter.values())\n",
    "plt.xlabel('Classes')\n",
    "plt.ylabel('Número de documentos')\n",
    "plt.title('Distribuição dos documentos')"
   ]
  },
  {
   "cell_type": "markdown",
   "metadata": {},
   "source": [
    "Os documentos possuem título e texto, sendo que os títulos estão localizados na primeira linha de cada documento. Abaixo são apresentadas as distribuições de dos comprimentos dos títulos e dos textos:"
   ]
  },
  {
   "cell_type": "code",
   "execution_count": 7,
   "metadata": {},
   "outputs": [
    {
     "data": {
      "image/png": "[encoded data removed]",
      "text/plain": [
       "<Figure size 432x288 with 2 Axes>"
      ]
     },
     "metadata": {
      "needs_background": "light"
     },
     "output_type": "display_data"
    }
   ],
   "source": [
    "title_len_counter = collections.Counter()\n",
    "text_len_counter = collections.Counter()\n",
    "for file_name, label in labeled_files:\n",
    "    doc = read_document(file_name)\n",
    "    title, text = split_title_text(doc)\n",
    "    title_len_counter[len(title)] += 1\n",
    "    text_len_counter[len(text)] += 1\n",
    "title_len_counter = collections.OrderedDict(sorted(title_len_counter.items()))\n",
    "text_len_counter = collections.OrderedDict(sorted(text_len_counter.items()))\n",
    "\n",
    "plt.subplots(1, 2)\n",
    "plt.subplot(1, 2, 1)\n",
    "plt.plot(title_len_counter.keys(), title_len_counter.values(), '-')\n",
    "plt.title('Títulos')\n",
    "plt.xlabel('Comprimento')\n",
    "plt.ylabel('Frequência')\n",
    "plt.xscale('log')\n",
    "\n",
    "plt.subplot(1, 2, 2)\n",
    "plt.plot(text_len_counter.keys(), text_len_counter.values(), '-')\n",
    "plt.title('Textos')\n",
    "plt.xlabel('Comprimento')\n",
    "plt.ylabel('Frequência')\n",
    "plt.xscale('log')"
   ]
  },
  {
   "cell_type": "markdown",
   "metadata": {},
   "source": [
    "### Classificador bayesiano ingênuo\n",
    "\n",
    "O classificador é do tipo bayesiano ingênuo que utiliza 2 métodos, o `train` e o `predict`. O primeiro treina e retorna um modelo bayesiano com a lista de rótulos, as probabilidades à priori de cada rótulo, as verossimilhanças de cada palavra de cada rótulo e o vocabulário utilizado. O treinamento utiliza a suavização laplaciana para cálculo da verossimilhança."
   ]
  },
  {
   "cell_type": "code",
   "execution_count": 8,
   "metadata": {},
   "outputs": [],
   "source": [
    "def train(labeled_docs):\n",
    "    # Calculate the prior probability\n",
    "    n_docs = len(labeled_docs)\n",
    "    labels_counter = collections.Counter([label for _, label in labeled_docs])\n",
    "    priors = {label: np.log(count / n_docs) for label, count in labels_counter.items()}\n",
    "\n",
    "    # Create the vocabulary (unique words in all repository), and calculate the likelyhoods\n",
    "    vocabulary = set()\n",
    "    word_freq_per_label = collections.defaultdict(lambda: collections.Counter())\n",
    "    words_per_label = collections.Counter()\n",
    "    for doc, label in labeled_docs:\n",
    "        for word in tokenize(doc):\n",
    "            vocabulary.add(word)\n",
    "            word_freq_per_label[label][word] += 1\n",
    "            words_per_label[label] += 1\n",
    "            \n",
    "    # Likelyhood using laplacian smoothing\n",
    "    likelyhoods = {\n",
    "        label: {word: np.log((word_freq_per_label[label][word] + 1) / (words_per_label[label] + len(vocabulary)))\n",
    "                for word in vocabulary}\n",
    "        for label in word_freq_per_label}\n",
    "    \n",
    "    labels = priors.keys()\n",
    "    \n",
    "    return {'labels': labels, 'priors': priors, 'likelyhoods': likelyhoods, 'vocabulary': vocabulary}"
   ]
  },
  {
   "cell_type": "code",
   "execution_count": 9,
   "metadata": {},
   "outputs": [],
   "source": [
    "def predict(model, doc):\n",
    "    # Predict the class of a giving document\n",
    "    predictions = {\n",
    "        label: model['priors'][label] \n",
    "               + sum([model['likelyhoods'][label][word]\n",
    "                      for word in tokenize(doc)\n",
    "                      if word in model['vocabulary']])\n",
    "        for label in model['labels']}\n",
    "    \n",
    "    return max(predictions.items(), key=operator.itemgetter(1))[0]"
   ]
  },
  {
   "cell_type": "markdown",
   "metadata": {},
   "source": [
    "### Experimentação\n",
    "\n",
    "Com a finalidade de realizar uma experimentação, métricas de avaliação como precisão e revocação são apresentadas abaixo como medidas de qualidade, assim como a validação cruzada para minimizar o viés dos dados."
   ]
  },
  {
   "cell_type": "code",
   "execution_count": 10,
   "metadata": {},
   "outputs": [],
   "source": [
    "def cross_validation(dataset, k=10):\n",
    "    # Shuffle the documents\n",
    "    np.random.shuffle(dataset)\n",
    "    \n",
    "    # Split the dataset into k-foldings of training and test\n",
    "    ranges = np.linspace(0, len(dataset), num=(k + 1), dtype=int)\n",
    "    groups = [dataset[ranges[i]:ranges[i + 1]]\n",
    "              for i in range(len(ranges) - 1)]\n",
    "    for i in range(k):\n",
    "        train = np.concatenate(groups[:i] + groups[i + 1:])\n",
    "        test = groups[i]\n",
    "        yield train, test,"
   ]
  },
  {
   "cell_type": "code",
   "execution_count": 11,
   "metadata": {},
   "outputs": [],
   "source": [
    "def experiment(setup, train_f=train, predict_f=predict):\n",
    "    train_data = setup[0]\n",
    "    test_data = setup[1]\n",
    "    \n",
    "    # Train the model with the train_data and test it with test_data\n",
    "    model = train_f(train_data)\n",
    "    labeled_predictions = [(predict_f(model, doc), label) for doc, label in test_data]\n",
    "    return labeled_predictions, model"
   ]
  },
  {
   "cell_type": "code",
   "execution_count": 12,
   "metadata": {},
   "outputs": [],
   "source": [
    "def score(labeled_predictions, model):\n",
    "    # Create the confusion matrix\n",
    "    labels = model['labels']\n",
    "    n_labels = len(labels)\n",
    "    labels_idx = {label: idx for idx, label in enumerate(model['labels'])}\n",
    "    \n",
    "    matrix = np.zeros((n_labels, n_labels))\n",
    "    for prediction, actual in labeled_predictions:\n",
    "        actual_idx = labels_idx[actual]\n",
    "        prediction_idx = labels_idx[prediction]\n",
    "        matrix[actual_idx][prediction_idx] += 1\n",
    "    \n",
    "    # Sum the matrix in both directions (row-wise and column-wise)\n",
    "    matrix_sum_axis_0 = matrix.sum(axis=0)\n",
    "    matrix_sum_axis_1 = matrix.sum(axis=1)\n",
    "\n",
    "    \n",
    "    f1_func = lambda precision, recall: (2 * precision * recall) / (precision + recall)\n",
    "\n",
    "    score = {}\n",
    "    # Calculate the score for each label\n",
    "    for label in labels:\n",
    "        idx = labels_idx[label]\n",
    "        precision = matrix[idx][idx] / matrix_sum_axis_1[idx]\n",
    "        recall = matrix[idx][idx] / matrix_sum_axis_0[idx]\n",
    "        f1 = f1_func(precision, recall)\n",
    "        score[label] = {\n",
    "            'precision': precision,\n",
    "            'recall': recall,\n",
    "            'f1': f1\n",
    "        }\n",
    "    \n",
    "    # Micro averaging\n",
    "    micro_avg_precision = matrix.trace() / sum(matrix_sum_axis_1)\n",
    "    micro_avg_recall = matrix.trace() / sum(matrix_sum_axis_0)\n",
    "    micro_avg_f1 = f1_func(micro_avg_precision, micro_avg_recall)\n",
    "    score['micro-avg'] = {\n",
    "        'precision': micro_avg_precision,\n",
    "        'recall': micro_avg_recall,\n",
    "        'f1': micro_avg_f1\n",
    "    }\n",
    "\n",
    "    # Macro averaging\n",
    "    macro_avg_precision = np.mean([score[label]['precision']\n",
    "                                   for label in score.keys()])\n",
    "    macro_avg_recall = np.mean([score[label]['recall']\n",
    "                                for label in score.keys()])\n",
    "    macro_avg_f1 = f1_func(macro_avg_precision, macro_avg_recall)\n",
    "    score['macro-avg'] = {\n",
    "        'precision': macro_avg_precision,\n",
    "        'recall': macro_avg_recall,\n",
    "        'f1': macro_avg_f1\n",
    "    }\n",
    "    \n",
    "    # Return both score (per label, micro and macro) and the confusion matrix\n",
    "    return score, matrix, labels_idx,"
   ]
  },
  {
   "cell_type": "markdown",
   "metadata": {},
   "source": [
    "### Execução do experimento\n",
    "\n",
    "Abaixo são apresentados os valores mínimo, máximo e médio da execução cruzada da base de dados:"
   ]
  },
  {
   "cell_type": "code",
   "execution_count": 13,
   "metadata": {},
   "outputs": [],
   "source": [
    "def run_experiment_1():\n",
    "    labeled_docs = [(read_document(file), label) for file, label in labeled_files]\n",
    "    setups = cross_validation(labeled_docs, k=10)\n",
    "    micro_f1 = []\n",
    "    macro_f1 = []\n",
    "    matrices = []\n",
    "    for i, setup in enumerate(setups):\n",
    "        labeled_predictions, model = experiment(setup)\n",
    "        score_result, matrix, labels_idx = score(labeled_predictions, model)\n",
    "        micro_f1.append(score_result['micro-avg']['f1'])\n",
    "        macro_f1.append(score_result['macro-avg']['f1'])\n",
    "        matrices.append(matrix)\n",
    "    \n",
    "    return micro_f1, macro_f1, matrices, labels_idx"
   ]
  },
  {
   "cell_type": "code",
   "execution_count": 58,
   "metadata": {},
   "outputs": [
    {
     "name": "stdout",
     "output_type": "stream",
     "text": [
      "Experimento 1:\n",
      "\tMicro-averaging min=0.9550, max=0.9865, mean=0.9730\n",
      "\tMacro-averaging min=0.9558, max=0.9867, mean=0.9725\n",
      "\tMatrix de confusão (média) labels=['politics', 'entertainment', 'tech', 'business', 'sport'] \n",
      " [[40.8  0.   0.2  0.7  0. ]\n",
      " [ 0.6 38.5  1.1  0.1  0.1]\n",
      " [ 0.3  0.2 39.5  0.1  0. ]\n",
      " [ 1.2  0.   1.2 46.8  0. ]\n",
      " [ 0.1  0.   0.   0.1 50.9]]\n"
     ]
    }
   ],
   "source": [
    "micro_f1, macro_f1, matrices, labels_idx = run_experiment_1()\n",
    "print('Experimento 1:')\n",
    "print('\\tMicro-averaging min={:.4f}, max={:.4f}, mean={:.4f}'.format(\n",
    "    min(micro_f1), max(micro_f1), np.mean(micro_f1)))\n",
    "print('\\tMacro-averaging min={:.4f}, max={:.4f}, mean={:.4f}'.format(\n",
    "    min(macro_f1), max(macro_f1), np.mean(macro_f1)))\n",
    "print('\\tMatrix de confusão (média) labels={} \\n'.format(list(labels_idx.keys())), np.mean(matrices, axis=0))"
   ]
  },
  {
   "cell_type": "markdown",
   "metadata": {},
   "source": [
    "A média micro foi ligeiramente superior a média macro, indicando que as classes com mais exemplos do que outras possuem uma medida F1 superior as outras classes."
   ]
  },
  {
   "cell_type": "markdown",
   "metadata": {},
   "source": [
    "### Melhoria no modelo\n",
    "As melhorias propostas são:\n",
    "1. Aprimoramento do `tokenizador` removendo caracteres especiais;\n",
    "2. Remoção de stopwords durante o treinamento do modelo bayesiano ingênuo;\n",
    "3. Utilização de TF-IDF como heurística;"
   ]
  },
  {
   "cell_type": "code",
   "execution_count": 15,
   "metadata": {},
   "outputs": [],
   "source": [
    "def tokenize_v2(doc):\n",
    "    it = re.finditer(\"[-a-zA-Z\\xc0-\\xff]+\", doc, flags=re.MULTILINE | re.DOTALL)\n",
    "    for word in it:\n",
    "        yield word.group(0).lower()"
   ]
  },
  {
   "cell_type": "code",
   "execution_count": 16,
   "metadata": {},
   "outputs": [],
   "source": [
    "def make_tf_idf(labeled_docs):\n",
    "    labels = {label for _, label in labeled_docs}\n",
    "    vocabulary = {word for doc, _ in labeled_docs for word in tokenize_v2(doc)}\n",
    "    \n",
    "    vocabulary_to_idx = {word: idx for idx, word in enumerate(vocabulary)}\n",
    "    labels_to_idx = {label: idx for idx, label in enumerate(labels)}\n",
    "    \n",
    "    # Term frequency\n",
    "    tf = np.ones((len(vocabulary), len(labels)))\n",
    "    for doc, label in labeled_docs:\n",
    "        for word in tokenize_v2(doc):\n",
    "            tf[vocabulary_to_idx[word], labels_to_idx[label]] += 1\n",
    "    # Inverse document frequency\n",
    "    idf = len(labels) / (tf > 0).sum(axis=1)\n",
    "    \n",
    "    # Calculate the tf_idf\n",
    "    tf_idf = np.zeros(tf.shape)\n",
    "    for i in range(tf.shape[0]):\n",
    "        for j in range(tf.shape[1]):\n",
    "            tf_idf[i][j] = tf[i][j] * idf[i]\n",
    "    \n",
    "    # Normalize\n",
    "    tf_idf_row_sum = tf_idf.sum(axis=1)\n",
    "    for i in range(tf_idf.shape[0]):\n",
    "        for j in range(tf_idf.shape[1]):\n",
    "            tf_idf[i][j] = tf_idf[i][j] / tf_idf_row_sum[i]\n",
    "\n",
    "    # Return the collection of values to be used by the model\n",
    "    return tf_idf, vocabulary_to_idx, labels_to_idx,"
   ]
  },
  {
   "cell_type": "code",
   "execution_count": 17,
   "metadata": {},
   "outputs": [],
   "source": [
    "def train_v2(labeled_docs):\n",
    "    # Build up the stop words\n",
    "    word_freq = collections.Counter([word for doc, _ in labeled_docs for word in tokenize_v2(doc)])\n",
    "    stop_words = {word for word, _ in word_freq.most_common(200)}\n",
    "    \n",
    "    # Calculate the prior probability\n",
    "    n_docs = len(labeled_docs)\n",
    "    labels_counter = collections.Counter([label for _, label in labeled_docs])\n",
    "    priors = {label: np.log(count / n_docs) for label, count in labels_counter.items()}\n",
    "\n",
    "    # Create the vocabulary (unique words in all repository), and calculate the likelyhoods\n",
    "    vocabulary = set()\n",
    "    word_freq_per_label = collections.defaultdict(lambda: collections.Counter())\n",
    "    words_per_label = collections.Counter()\n",
    "    for doc, label in labeled_docs:\n",
    "        for word in tokenize_v2(doc):\n",
    "            if word in stop_words:\n",
    "                # Ignore stop words\n",
    "                continue\n",
    "            vocabulary.add(word)\n",
    "            word_freq_per_label[label][word] += 1\n",
    "            words_per_label[label] += 1\n",
    "            \n",
    "    # Likelyhood using laplacian smoothing\n",
    "    likelyhoods = {\n",
    "        label: {word: np.log((word_freq_per_label[label][word] + 1) / (words_per_label[label] + len(vocabulary)))\n",
    "                for word in vocabulary}\n",
    "        for label in word_freq_per_label}\n",
    "    \n",
    "    labels = priors.keys()\n",
    "    \n",
    "    # Runs tf-idf\n",
    "    tf_idf, vocabulary_to_idx, labels_to_idx = make_tf_idf(labeled_docs)\n",
    "    \n",
    "    return {\n",
    "        'labels': labels,\n",
    "        'priors': priors,\n",
    "        'likelyhoods': likelyhoods,\n",
    "        'vocabulary': vocabulary,\n",
    "        'tf-idf': tf_idf,\n",
    "        'vocabulary_to_idx': vocabulary_to_idx,\n",
    "        'labels_to_idx': labels_to_idx\n",
    "    }"
   ]
  },
  {
   "cell_type": "code",
   "execution_count": 55,
   "metadata": {},
   "outputs": [],
   "source": [
    "def predict_v2(model, doc, alpha=0.90):\n",
    "    labels = model['labels']\n",
    "    vocabulary = model['vocabulary']\n",
    "\n",
    "    # Prediction based on TF-IDF\n",
    "    tf_idf = model['tf-idf']\n",
    "    vocabulary_to_idx = model['vocabulary_to_idx']\n",
    "    labels_to_idx = model['labels_to_idx']\n",
    "    tf_idf_predictions = {\n",
    "        label: sum([np.log(tf_idf[vocabulary_to_idx[word], labels_to_idx[label]])\n",
    "                    for word in tokenize_v2(doc) if word in vocabulary])\n",
    "        for label in labels\n",
    "    }\n",
    "        \n",
    "    # Predict the class of a giving document\n",
    "    priors = model['priors']\n",
    "    likelyhoods = model['likelyhoods']\n",
    "    predictions = {\n",
    "        label: priors[label] \n",
    "               + sum([likelyhoods[label][word]\n",
    "                      for word in tokenize_v2(doc)\n",
    "                      if word in vocabulary])\n",
    "        for label in labels}\n",
    "    \n",
    "    # Ensemble both methods\n",
    "    ensemble = {\n",
    "        label: alpha * predictions[label] + (1 - alpha) * tf_idf_predictions[label]\n",
    "        for label in labels \n",
    "    }\n",
    "        \n",
    "    return max(ensemble.items(), key=operator.itemgetter(1))[0]"
   ]
  },
  {
   "cell_type": "code",
   "execution_count": 56,
   "metadata": {},
   "outputs": [],
   "source": [
    "def run_experiment_2():\n",
    "    labeled_docs = [(read_document(file), label) for file, label in labeled_files]\n",
    "    setups = cross_validation(labeled_docs, k=10)\n",
    "    micro_f1 = []\n",
    "    macro_f1 = []\n",
    "    matrices = []\n",
    "    for i, setup in enumerate(setups):\n",
    "        labeled_predictions, model = experiment(setup, train_f=train_v2, predict_f=predict_v2)\n",
    "        score_result, matrix, labels_idx = score(labeled_predictions, model)\n",
    "        micro_f1.append(score_result['micro-avg']['f1'])\n",
    "        macro_f1.append(score_result['macro-avg']['f1'])\n",
    "        matrices.append(matrix)\n",
    "    \n",
    "    return micro_f1, macro_f1, matrices, labels_idx"
   ]
  },
  {
   "cell_type": "code",
   "execution_count": 57,
   "metadata": {},
   "outputs": [
    {
     "name": "stdout",
     "output_type": "stream",
     "text": [
      "Experimento 2:\n",
      "\tMicro-averaging min=0.9640, max=0.9910, mean=0.9757\n",
      "\tMacro-averaging min=0.9646, max=0.9914, mean=0.9757\n",
      "\tMatrix de confusão (média) labels=['sport', 'business', 'entertainment', 'politics', 'tech'] \n",
      " [[50.6  0.1  0.   0.3  0. ]\n",
      " [ 0.  49.   0.1  1.2  0.8]\n",
      " [ 0.   0.  36.4  0.3  0.7]\n",
      " [ 0.   0.5  0.1 40.8  0.2]\n",
      " [ 0.1  0.1  0.6  0.3 40.3]]\n"
     ]
    }
   ],
   "source": [
    "micro_f1, macro_f1, matrices, labels_idx = run_experiment_2()\n",
    "print('Experimento 2:')\n",
    "print('\\tMicro-averaging min={:.4f}, max={:.4f}, mean={:.4f}'.format(\n",
    "    min(micro_f1), max(micro_f1), np.mean(micro_f1)))\n",
    "print('\\tMacro-averaging min={:.4f}, max={:.4f}, mean={:.4f}'.format(\n",
    "    min(macro_f1), max(macro_f1), np.mean(macro_f1)))\n",
    "print('\\tMatrix de confusão (média) labels={} \\n'.format(list(labels_idx.keys())), np.mean(matrices, axis=0))"
   ]
  },
  {
   "cell_type": "markdown",
   "metadata": {},
   "source": [
    "## Análise\n",
    "\n",
    "O primeiro experimento utilizou o modelo bayesiano ingênuo sem remoção de $stopwords$ e um $tokenizador$ mais relaxado atingindo uma medida F1 média micro de 0.9730 e macro de 0.9725.\n",
    "\n",
    "No segundo experimento o $tokenizador$ utilizado foi mais restritivo e as 200 palavras mais presentes foram assumidas como sendo $stopwords$ e foram removidas do modelo bayesiano ingênio. Além disso, foi criada uma tabela `tf-idf` sendo que foram utilizadas as categorias como documentos, ou seja, todos os documentos de uma mesma categoria foram agrupados produzindo assim o mesmo número de documentos quanto os números de categorias. Assim, a função de predição cálcula a probabilidade de cada categoria com base na tabela `tf-idf` e pondera seu resultado com a saída do classificador bayesiano utilizando um hiper-parâmetro alfa. O segundo experimento produziu uma medida F1 média micro de 0.9757 e macro de 0.9757.\n",
    "\n",
    "Devido a alteração de 3 métodos simultaneamente não é possível saber quais deles realmente contribuiram para a diferença de medida F1 sem que se faça uma análise de cada alteração, porém pode-se entender que para 1 execução nas condições acima citadas, o experimento 2 obteve uma medida D1 superior ao experimento 1."
   ]
  },
  {
   "cell_type": "code",
   "execution_count": 62,
   "metadata": {},
   "outputs": [],
   "source": [
    "def bootstrapping(b_times=10):\n",
    "    e1_micro_f1, e1_macro_f1, e1_matrices, e1_labels_idx = run_experiment_1()\n",
    "    e2_micro_f1, e2_macro_f1, e2_matrices, e2_labels_idx = run_experiment_2()\n",
    "    \n",
    "    sigma = np.mean(e2_micro_f1) - np.mean(e1_micro_f1)\n",
    "    n_better = 0\n",
    "    for i in range(b_times):\n",
    "        e1_micro_f1, e1_macro_f1, e1_matrices, e1_labels_idx = run_experiment_1()\n",
    "        e2_micro_f1, e2_macro_f1, e2_matrices, e2_labels_idx = run_experiment_2()\n",
    "        \n",
    "        sigma_2 = np.mean(e2_micro_f1) - np.mean(e1_micro_f1)\n",
    "        # Use 1 sigma instead of 2 sigmas\n",
    "        if sigma_2 > sigma:\n",
    "            n_better += 1\n",
    "    \n",
    "    return n_better / b_times"
   ]
  },
  {
   "cell_type": "code",
   "execution_count": 63,
   "metadata": {},
   "outputs": [
    {
     "name": "stdout",
     "output_type": "stream",
     "text": [
      "Bootstrapping 0.7\n"
     ]
    }
   ],
   "source": [
    "print(\"Bootstrapping\", bootstrapping())"
   ]
  },
  {
   "cell_type": "markdown",
   "metadata": {},
   "source": [
    "Uma análise de significância com hipótese nula $H_0$ de que o experimento 2 é melhor do que o o experimento 1 por coincidência de amostragem foi realizada através da função `bootstrapping`."
   ]
  },
  {
   "cell_type": "code",
   "execution_count": null,
   "metadata": {},
   "outputs": [],
   "source": []
  }
 ],
 "metadata": {
  "kernelspec": {
   "display_name": "Python 3",
   "language": "python",
   "name": "python3"
  },
  "language_info": {
   "codemirror_mode": {
    "name": "ipython",
    "version": 3
   },
   "file_extension": ".py",
   "mimetype": "text/x-python",
   "name": "python",
   "nbconvert_exporter": "python",
   "pygments_lexer": "ipython3",
   "version": "3.8.5"
  }
 },
 "nbformat": 4,
 "nbformat_minor": 4
}
