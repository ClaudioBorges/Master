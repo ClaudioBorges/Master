{
 "cells": [
  {
   "cell_type": "markdown",
   "metadata": {},
   "source": [
    "# PEL218 - Atividade 3\n",
    "Processamento de Linguagem Narual (Prof. Guilherme Wachs)\n",
    "\n",
    "Claudio Aparecido Borges Junior (RA 120122-7)"
   ]
  },
  {
   "cell_type": "markdown",
   "metadata": {},
   "source": [
    "## Atividade\n",
    "Implementar um modelo de linguagem 3-Grama com interpolação\n",
    "* Baixa o arquivo CHAVEFolha.zip do moodle;\n",
    "* A base de treinamento está na pasta **folha95**;\n",
    "* Texto está nas tags <TEXT>;\n",
    "* Tokenizar por palavras, transformar em minúsculo, retirar pontuação;\n",
    "* Criar modelo 3-grama;\n",
    "* Usar a base de teste **folha94** para medir a perplexidade por <TEXT>\n",
    "* Fazer um relatório sobre os resultados:\n",
    "    * Análise da base de treinamento (número de palavras, tamanho do vocabulário)\n",
    "    * Extrato de maior perplexidade, menor e a distribuição de perplexidade;\n",
    "    * Discutir os resultados"
   ]
  },
  {
   "cell_type": "markdown",
   "metadata": {},
   "source": [
    "## Resolução\n",
    "Foi escolhida a linguagem *Python* versão 3.8.5. Os arquivos folha95 foram usados para treinamento e os folha94 para teste."
   ]
  },
  {
   "cell_type": "code",
   "execution_count": 1,
   "metadata": {},
   "outputs": [],
   "source": [
    "import collections\n",
    "import copy\n",
    "import math\n",
    "import os\n",
    "import re\n",
    "\n",
    "import matplotlib.pyplot as plt"
   ]
  },
  {
   "cell_type": "code",
   "execution_count": 2,
   "metadata": {},
   "outputs": [],
   "source": [
    "folha95_path = 'CHAVEFolha/folha95/'"
   ]
  },
  {
   "cell_type": "code",
   "execution_count": 3,
   "metadata": {},
   "outputs": [],
   "source": [
    "folha95_files = os.listdir(folha95_path)"
   ]
  },
  {
   "cell_type": "markdown",
   "metadata": {},
   "source": [
    "### Funções para ler, preparar e tokenizar os documentos:\n",
    "\n",
    "`read_lines:` lê cada linha do documentos na forma de *generator*\n",
    "\n",
    "`prepare_3gram:` prepara uma linha para 3-gramas adicionando \\<s\\> e \\</s\\>\n",
    "\n",
    "`tokeniz:` tokenização de palavras na forma de *generator* e substitui palavras OOV para \\<unk\\> se um vocabulario estiver presente"
   ]
  },
  {
   "cell_type": "code",
   "execution_count": 4,
   "metadata": {},
   "outputs": [],
   "source": [
    "def read_lines(root_path, file_paths):\n",
    "    for file_path in file_paths:\n",
    "        with open(os.path.join(os.getcwd(), root_path, file_path), 'r', encoding='iso-8859-1') as f:\n",
    "            it = re.finditer(r'<TEXT>(.+?)</TEXT>', f.read(), re.MULTILINE | re.DOTALL)\n",
    "            for match in it:\n",
    "                lines = match.groups(0)[0].splitlines()\n",
    "                for line in lines:\n",
    "                    if line:\n",
    "                        yield line"
   ]
  },
  {
   "cell_type": "code",
   "execution_count": 5,
   "metadata": {},
   "outputs": [],
   "source": [
    "def prepare_3gram(line):\n",
    "    return '<s> <s> ' + line + ' </s> </s>'"
   ]
  },
  {
   "cell_type": "code",
   "execution_count": 6,
   "metadata": {},
   "outputs": [],
   "source": [
    "def tokenize(string, vocabulary=None):\n",
    "    it = re.finditer(\"<s>|<\\/s>|[-a-zA-Z\\xc0-\\xff]+\", string, flags=re.MULTILINE | re.DOTALL)\n",
    "    for word in it:\n",
    "        w = word.group(0).lower()\n",
    "        if vocabulary:\n",
    "            if w not in vocabulary and w != '<s>' and w != '</s>':\n",
    "                w = '<unk>'\n",
    "        yield w"
   ]
  },
  {
   "cell_type": "markdown",
   "metadata": {},
   "source": [
    "### Constroi vocabulário usando a base de treinamento"
   ]
  },
  {
   "cell_type": "code",
   "execution_count": 7,
   "metadata": {},
   "outputs": [],
   "source": [
    "vocabulary_pre = collections.Counter()\n",
    "\n",
    "for line in read_lines(folha95_path, folha95_files):\n",
    "    vocabulary_pre.update(tokenize(line))"
   ]
  },
  {
   "cell_type": "markdown",
   "metadata": {},
   "source": [
    "Seleciona palavras que apareceram apenas 1 vez do conjunto de treinamento e as substituem para \\<unk\\>. Desse modo é possível treinar casos de OOV"
   ]
  },
  {
   "cell_type": "code",
   "execution_count": 8,
   "metadata": {},
   "outputs": [],
   "source": [
    "# Palavras com uma ocorrência menor or igual a `oov_train_threshold` são transformadas em <unk>,\n",
    "# desse modo podemos treinar <unk> na base de treinamento simulando um vocabulário definido\n",
    "oov_train_threshold = 1\n",
    "oov_train = [w for w, n in vocabulary_pre.items() if n <= oov_train_threshold]"
   ]
  },
  {
   "cell_type": "code",
   "execution_count": 9,
   "metadata": {},
   "outputs": [],
   "source": [
    "vocabulary = copy.deepcopy(vocabulary_pre)\n",
    "for w in oov_train:\n",
    "    c = vocabulary_pre[w]\n",
    "    del vocabulary[w]\n",
    "    vocabulary['<unk>'] += c"
   ]
  },
  {
   "cell_type": "markdown",
   "metadata": {},
   "source": [
    "### Estatísticas da base de treinamento"
   ]
  },
  {
   "cell_type": "code",
   "execution_count": 60,
   "metadata": {},
   "outputs": [
    {
     "name": "stdout",
     "output_type": "stream",
     "text": [
      "Número de palavras: 17982871\n",
      "Tamanho do vocabulário: 210901\n",
      "Relação do vocabulário e da quantidade de palavras: 1.17%\n",
      "Palavra \"de\" ocorreu 894061 vezes\n",
      "Palavra \"a\" ocorreu 637392 vezes\n",
      "Palavra \"o\" ocorreu 605855 vezes\n",
      "Palavra \"e\" ocorreu 428649 vezes\n",
      "Palavra \"que\" ocorreu 425298 vezes\n",
      "Palavra \"do\" ocorreu 357115 vezes\n",
      "Palavra \"da\" ocorreu 315598 vezes\n",
      "Palavra \"em\" ocorreu 245729 vezes\n",
      "Palavra \"para\" ocorreu 205622 vezes\n",
      "Palavra \"é\" ocorreu 172255 vezes\n"
     ]
    }
   ],
   "source": [
    "n_words_pre = sum(vocabulary_pre.values())\n",
    "n_voc_pre = len(vocabulary_pre)\n",
    "\n",
    "print('Número de palavras:', n_words_pre)\n",
    "print('Tamanho do vocabulário:', n_voc_pre)\n",
    "print('Relação do vocabulário e da quantidade de palavras:',\n",
    "      '{0:.2f}'.format(n_voc_pre / n_words_pre * 100) + '%' )\n",
    "for word, n in vocabulary.most_common(10):\n",
    "    print('Palavra \"' + word + '\" ocorreu ' + str(n) + ' vezes')"
   ]
  },
  {
   "cell_type": "markdown",
   "metadata": {},
   "source": [
    "#### Estatísticas da base após a substituição para \\<unk\\>"
   ]
  },
  {
   "cell_type": "code",
   "execution_count": null,
   "metadata": {},
   "outputs": [],
   "source": []
  },
  {
   "cell_type": "code",
   "execution_count": null,
   "metadata": {},
   "outputs": [],
   "source": []
  },
  {
   "cell_type": "code",
   "execution_count": 11,
   "metadata": {},
   "outputs": [
    {
     "name": "stdout",
     "output_type": "stream",
     "text": [
      "Número de palavras: 17982871\n",
      "Tamanho do vocabulário: 127800\n",
      "Quantidade de palavras consideradas <unk>: 83102\n",
      "Relação do vocabulário e da quantidade de palavras: 0.71%\n"
     ]
    }
   ],
   "source": [
    "n_words = sum(vocabulary.values())\n",
    "n_voc = len(vocabulary)\n",
    "\n",
    "print('Número de palavras:', n_words)\n",
    "print('Tamanho do vocabulário:', n_voc)\n",
    "print('Quantidade de palavras consideradas <unk>:', len(oov_train))\n",
    "print('Relação do vocabulário e da quantidade de palavras:',\n",
    "      '{0:.2f}'.format(n_voc / n_words * 100) + '%' )\n",
    "\n",
    "assert n_voc + len(oov_train) - 1 == n_voc_pre, 'Fail on vocabulary normalization'"
   ]
  },
  {
   "cell_type": "markdown",
   "metadata": {},
   "source": [
    "### Constrói a matriz de frequência para 3-gram, 2-gram e 1-gram\n",
    "\n",
    "São necessárias as 3 variações para poder utilizar o método da interpolação quando a probabilidade for 0\n",
    "\n",
    "`ngrams:` retorna um generator de tamanho do ngrama"
   ]
  },
  {
   "cell_type": "code",
   "execution_count": 12,
   "metadata": {},
   "outputs": [],
   "source": [
    "def generate_ngrams(tokens, n):\n",
    "    t = list(tokens)\n",
    "    for i in range(len(t) -n +1):\n",
    "        yield t[i:i+n]"
   ]
  },
  {
   "cell_type": "code",
   "execution_count": 13,
   "metadata": {},
   "outputs": [],
   "source": [
    "ngrams = collections.defaultdict(int)\n",
    "\n",
    "for line in read_lines(folha95_path, folha95_files):\n",
    "    line_marked = prepare_3gram(line)\n",
    "\n",
    "    for i in range(1, 4):\n",
    "        for w in generate_ngrams(tokenize(line_marked, vocabulary), i):\n",
    "            s = ' '.join(w)\n",
    "            ngrams[s] += 1"
   ]
  },
  {
   "cell_type": "markdown",
   "metadata": {},
   "source": [
    "### Calcula a perplexidade da base de testes\n",
    "\n",
    "As palavras que não estão presentes no vocabulário de treinamento são substituídas para \\<unk\\> e as probabilidades são interpoladas entre 3, 2 e 1 grama"
   ]
  },
  {
   "cell_type": "code",
   "execution_count": 14,
   "metadata": {},
   "outputs": [],
   "source": [
    "folha94_path = 'CHAVEFolha/folha94/'"
   ]
  },
  {
   "cell_type": "code",
   "execution_count": 15,
   "metadata": {},
   "outputs": [],
   "source": [
    "folha94_files = os.listdir(folha94_path)"
   ]
  },
  {
   "cell_type": "code",
   "execution_count": 16,
   "metadata": {},
   "outputs": [],
   "source": [
    "# Define os hiperparâmetros lambda utilizados na interpolação\n",
    "lambda_n3 = 0.5\n",
    "lambda_n2 = 0.3\n",
    "lambda_n1 = 0.2\n",
    "\n",
    "p_line = []\n",
    "for line in read_lines(folha94_path, folha94_files):\n",
    "    line_marked = prepare_3gram(line)\n",
    "    \n",
    "    p = []\n",
    "    for w in generate_ngrams(tokenize(line_marked, vocabulary), 3):\n",
    "        n3 = ' '.join(w)\n",
    "        n2 = ' '.join(w[1:3])\n",
    "        n1 = w[2]\n",
    "        p3 = ngrams[n3]/ngrams[n2] if ngrams[n3] else 0\n",
    "        p2 = ngrams[n2]/ngrams[n1] if ngrams[n2] else 0\n",
    "        p1 = ngrams[n1]/n_words if ngrams[n1] else 0\n",
    "        assert p3 + p2 + p1 > 0, '{}, {}, {}, {}'.format(n3, p3, p2, p1)\n",
    "        \n",
    "        p.append(lambda_n3 * p3 + lambda_n2 * p2 + lambda_n1 * p1)\n",
    "        \n",
    "    p_line.append(p)"
   ]
  },
  {
   "cell_type": "markdown",
   "metadata": {},
   "source": [
    "Calcula a perplexidade de cada linha"
   ]
  },
  {
   "cell_type": "code",
   "execution_count": 18,
   "metadata": {},
   "outputs": [],
   "source": [
    "def perplexity(ps):\n",
    "    prod = 1;\n",
    "    for p in ps:\n",
    "        prod *= 1/p\n",
    "    return prod ** (1/len(ps))\n",
    "\n",
    "pps = []\n",
    "for p in p_line:\n",
    "    pp = perplexity(p)\n",
    "    pps.append(pp)"
   ]
  },
  {
   "cell_type": "markdown",
   "metadata": {},
   "source": [
    "#### Estatísticas da perplexidade"
   ]
  },
  {
   "cell_type": "code",
   "execution_count": 19,
   "metadata": {},
   "outputs": [
    {
     "name": "stdout",
     "output_type": "stream",
     "text": [
      "As 10 perplexidades que mais aparecem\n"
     ]
    },
    {
     "data": {
      "text/plain": [
       "[(2.1165361549547326, 11141),\n",
       " (3.4013969896604017, 3413),\n",
       " (2.1686565992586515, 3043),\n",
       " (2.433739888981176, 2326),\n",
       " (inf, 2228),\n",
       " (3.9083881205362907, 1910),\n",
       " (2.575215402113554, 1767),\n",
       " (2.4216718998197733, 1512),\n",
       " (4.101446267538539, 866),\n",
       " (2.4666432938746645, 824)]"
      ]
     },
     "execution_count": 19,
     "metadata": {},
     "output_type": "execute_result"
    }
   ],
   "source": [
    "pp_counter = collections.Counter(pps)\n",
    "print(\"As 10 perplexidades que mais aparecem\")\n",
    "pp_counter.most_common(10)"
   ]
  },
  {
   "cell_type": "code",
   "execution_count": 35,
   "metadata": {},
   "outputs": [],
   "source": [
    "# Agrupa a paerpexidade em grupos\n",
    "bins = {i:0 for i in range(10000)}\n",
    "\n",
    "for pp in pps:\n",
    "    for b in bins:\n",
    "        if pp <= b:\n",
    "            bins[b] += 1\n",
    "            break;"
   ]
  },
  {
   "cell_type": "code",
   "execution_count": 45,
   "metadata": {},
   "outputs": [
    {
     "name": "stdout",
     "output_type": "stream",
     "text": [
      "Número de frases na base de teste 558346\n",
      "Maior perplexidade: inf\n",
      "Menor perplexidade: 1.9588769365320562\n",
      "Distribuição de perplexidade: [(3, 37707), (4, 19091), (5, 7957), (6, 6988), (7, 5767), (10, 5039), (8, 5008), (9, 4150), (36, 3845), (31, 3760), (30, 3738), (32, 3736), (40, 3703), (29, 3683), (38, 3676), (37, 3662), (35, 3661), (34, 3653), (39, 3636), (44, 3617)]\n"
     ]
    }
   ],
   "source": [
    "print(\"Número de frases na base de teste\", len(pps))\n",
    "print(\"Maior perplexidade:\", max(pps))\n",
    "print(\"Menor perplexidade:\", min(pps))\n",
    "print(\"Distribuição de perplexidade:\", collections.Counter(bins).most_common(20))"
   ]
  },
  {
   "cell_type": "markdown",
   "metadata": {},
   "source": [
    "### Discussão dos resultados"
   ]
  },
  {
   "cell_type": "markdown",
   "metadata": {},
   "source": [
    " A quatidade de palavras únicas, chamada de vocabulário, da base de treinamento é de 210.901 palavras. Essa mesma base possui um total de 17.982.871 palavras, contabilizando portanto um vocabulário de extensão de 1.17%. Porém, para que fosse possível treinar a existência de palavras desconhecidas, isto é, palavras nunca vistas antes, todas os termos com ocorrência unitária foram substituidos para `<unk>`, estabelecendo assim um dicionário fechado implicitamente. Tais léxicos portanto formaram um outro conjunto com extensão de 127.800 ocorrências únicas ou 0.71%."
   ]
  },
  {
   "cell_type": "markdown",
   "metadata": {},
   "source": [
    "As palavras que ocorreram com maior ocorrência na base de treinamento foram artigos, preposições, conjunções, alguns poucos substantivos como presidente, folha, Brasil, país, são, paulo, rio, e também o marcador `<unk>`. Como o generero da base de treinamento é jornalístico, nomes de Estados (São Paulo e Rio de Janeiro) são notoriamente utilizados, além de termos políticos (Presidente), nomes de países (Brasil) e do próprio jornal (Folha)."
   ]
  },
  {
   "cell_type": "markdown",
   "metadata": {},
   "source": [
    "A base de dados `folha94` foi utilizada para availiar a perplexidade e assim julgar a qualidade do modelo n-grama. Essa medida é o inverso da probabilidade de uma sentença ocorrer normalizada pelo número de palavras, sendo que, minimizar a perplexidade é o mesmo que aumentar a probabilidade do conjundo de teste. A perplexidade foi calculada por sentença, desse modo cada frase possui uma perplexidade distinta. A distribuição de probabilidade de perplexidade pode ser vista abaixo:"
   ]
  },
  {
   "cell_type": "code",
   "execution_count": 47,
   "metadata": {},
   "outputs": [
    {
     "data": {
      "image/png": "[encoded data removed]",
      "text/plain": [
       "<Figure size 432x288 with 1 Axes>"
      ]
     },
     "metadata": {
      "needs_background": "light"
     },
     "output_type": "display_data"
    }
   ],
   "source": [
    "plt.plot(bins.keys(), bins.values())\n",
    "plt.xlim(-1, 100)\n",
    "plt.show()"
   ]
  },
  {
   "cell_type": "markdown",
   "metadata": {},
   "source": [
    "Foram identificadas 64.848 sentenças com perplexidades menores do que 5, ou seja, 11,61% das sentençãs possuem uma perplexidade 20 vezes menor se comparada com a mesma medida exibida por Jurafsky, 2019 em seu ensaio de tri-frama com mais do que 1.5 milhões de termos do WSJ. O intervalo de perplexidade entre 2 e 3 possui a maior quantidade de linhas, totalizando 37.707 ou 6,75% do conjunto de testes."
   ]
  },
  {
   "cell_type": "markdown",
   "metadata": {},
   "source": [
    "Considerando o resultado obtido por Jurafksy, 2019 em seu ensaio com os dados do WSJ que foi encontrado uma perplexidade de 109 para tri-grama, o presente documento encontrou 373.552 linhas com perplexidade menor ou igual a 109, ou seja 66,90% dos exemplos de testes."
   ]
  },
  {
   "cell_type": "markdown",
   "metadata": {},
   "source": [
    "A menor perplexidade encontrada foi de 1,96 enquanto a maior perplexidade foi inifinita. Isso indica que houveram casos onde a probabilidade de ocorrência de uma sentença com base nos n-gramas treinados com a base de treinamento foi tão pequena que causaram estouro do limite de dados pelo Python. Esse evento ocorreu tanto utilizando as probabilidades em seu formado normal quanto utilizando base logarítmica, isto é houveram casos onde a probabilidade logarítmica foi menor do que -700. Houveram casos em que a probabilidade logarítimica foi menor do que -5443. "
   ]
  }
 ],
 "metadata": {
  "kernelspec": {
   "display_name": "Python 3",
   "language": "python",
   "name": "python3"
  },
  "language_info": {
   "codemirror_mode": {
    "name": "ipython",
    "version": 3
   },
   "file_extension": ".py",
   "mimetype": "text/x-python",
   "name": "python",
   "nbconvert_exporter": "python",
   "pygments_lexer": "ipython3",
   "version": "3.8.5"
  }
 },
 "nbformat": 4,
 "nbformat_minor": 4
}
