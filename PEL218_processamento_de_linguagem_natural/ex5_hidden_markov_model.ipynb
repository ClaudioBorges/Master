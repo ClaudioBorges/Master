{
 "cells": [
  {
   "cell_type": "markdown",
   "metadata": {},
   "source": [
    "# PEL218 - Atividade 1\n",
    "Processamento de Linguagem Narual (Prof. Guilherme Wachs)\n",
    "\n",
    "Claudio Aparecido Borges Junior (RA 120122-7)"
   ]
  },
  {
   "cell_type": "markdown",
   "metadata": {},
   "source": [
    "## Atividade\n",
    "Implementar o HMM\n",
    "* Objetivo: classificar Part-Of-Speech (V, N, P, DT, etc...)\n",
    "* Treinar na base Folha 95 (pode ser parcial)\n",
    "* Testar a classificação na base Folha 94 (pode ser parcial)\n",
    "* Fazer um relatório com experimentos:\n",
    "  * Precisão / Revocação / Assertividade\n",
    "  * Discussão dos Resultados"
   ]
  },
  {
   "cell_type": "markdown",
   "metadata": {},
   "source": [
    "## Resolução\n",
    "Foi escolhida a linguagem *Python* versão 3.8.5. Os arquivos folha95 foram usados para treinamento e os folha94 para teste."
   ]
  },
  {
   "cell_type": "code",
   "execution_count": 1,
   "metadata": {},
   "outputs": [],
   "source": [
    "import collections\n",
    "import math\n",
    "import re\n",
    "\n",
    "import numpy as np\n",
    "import matplotlib.pyplot as plt"
   ]
  },
  {
   "cell_type": "code",
   "execution_count": 2,
   "metadata": {},
   "outputs": [],
   "source": [
    "folha95_filepath = 'CHAVEFolha/cg.Folha.1995'\n",
    "folha94_filepath = 'CHAVEFolha/cg.Folha.1994.reduced'"
   ]
  },
  {
   "cell_type": "markdown",
   "metadata": {},
   "source": [
    "### Funções para ler, preparar e tokenizar os documentos:\n",
    "\n",
    "`read_sentence:` lê o conteudo da tag `<s></s>` na forma de *generator*\n",
    "\n",
    "`tokenize:` tokenização de palavras na forma de *generator* incluindo seu rótulo"
   ]
  },
  {
   "cell_type": "code",
   "execution_count": 3,
   "metadata": {},
   "outputs": [],
   "source": [
    "def read_sentences(filepath):\n",
    "    # Controls the position in the state machine\n",
    "    with open(filepath, 'r', encoding='iso-8859-1') as file:\n",
    "        sentence = []\n",
    "        waiting_start = True\n",
    "        for line in file:\n",
    "            if waiting_start:\n",
    "                if '<s>' in line:\n",
    "                    waiting_start = False\n",
    "            else:\n",
    "                if '</s>' in line:\n",
    "                    if len(sentence) > 1:\n",
    "                        # Sentences should have at least 2 elements to be considered valid\n",
    "                        yield sentence\n",
    "                    # Reset search\n",
    "                    waiting_start = True\n",
    "                    sentence = []\n",
    "                else:\n",
    "                    # Consume the line greedly\n",
    "                    sentence.append(line)"
   ]
  },
  {
   "cell_type": "code",
   "execution_count": 4,
   "metadata": {},
   "outputs": [],
   "source": [
    "def tokenize(sentence, add_tag_cfg=True):\n",
    "    re_word = re.compile(r'^(.+?)(?:\\s|\\t|$)')\n",
    "    re_tag = re.compile(r'\\s([A-Z]+)\\s')\n",
    "    \n",
    "    tokens = []\n",
    "    for line in sentence:\n",
    "        # Word is the first part. Strip and convert to lower\n",
    "        word = re_word.search(line).group(1).lower()\n",
    "        if add_tag_cfg:\n",
    "            maybe_tag = re_tag.search(line)\n",
    "            tag = maybe_tag.group(1) if maybe_tag else 'INVTAG'\n",
    "            tag_adj = '<<' + tag + '>>'\n",
    "            tokens.append((word, tag_adj))\n",
    "        else:\n",
    "            tokens.append(word)\n",
    "    return tokens"
   ]
  },
  {
   "cell_type": "markdown",
   "metadata": {},
   "source": [
    "### Análise das bases de dados"
   ]
  },
  {
   "cell_type": "code",
   "execution_count": 5,
   "metadata": {},
   "outputs": [],
   "source": [
    "def words_tags_counter(filepath):\n",
    "    words = collections.Counter()\n",
    "    tags = collections.Counter()\n",
    "    for sentence in read_sentences(filepath):\n",
    "        tokens = tokenize(sentence)\n",
    "        words.update([token[0] for token in tokens])\n",
    "        tags.update([token[1] for token in tokens])\n",
    "    return words, tags"
   ]
  },
  {
   "cell_type": "code",
   "execution_count": 6,
   "metadata": {},
   "outputs": [],
   "source": [
    "dict_95, tags_95 = words_tags_counter(folha95_filepath)\n",
    "dict_94, tags_94 = words_tags_counter(folha94_filepath)\n",
    "n_sentences_95 = sum([1 for _ in read_sentences(folha95_filepath)])\n",
    "n_sentences_94 = sum([1 for _ in read_sentences(folha94_filepath)])"
   ]
  },
  {
   "cell_type": "code",
   "execution_count": 7,
   "metadata": {},
   "outputs": [
    {
     "name": "stdout",
     "output_type": "stream",
     "text": [
      "\n",
      "Quantidade de rótulos da Folha94 em relação a Folha95: 3.9677%\n",
      "Quantidade de sentenças da Folha94 em relação a Folha95: 3.9767%\n",
      "\n",
      "Folha95\n",
      "\tQuantide de exemplos: 22503737\n",
      "\tQuantide de sentenças: 1110070\n",
      "\tTamanho do dicionário: 360858\n",
      "\tQuantidade de rótulos: 22\n",
      "\t10 palavras mais frequêntes: [('de', 1470654), ('$,', 1326374), ('a', 1251375), ('o', 1170740), ('$¶', 1110856), ('$.', 973204), ('em', 590177), ('e', 419656), ('que', 387186), ('os', 308806)]\n",
      "\tRótulos e sua frequência: [('<<N>>', 4256317), ('<<DET>>', 3334266), ('<<PRP>>', 3117011), ('<<PU>>', 2717770), ('<<V>>', 2635172), ('<<INVTAG>>', 1331285), ('<<PROP>>', 1150860), ('<<ADJ>>', 1137737), ('<<ADV>>', 947293), ('<<KC>>', 517800), ('<<NUM>>', 489292), ('<<PERS>>', 279947), ('<<SPEC>>', 269511), ('<<KS>>', 268630), ('<<ALT>>', 43587), ('<<IN>>', 6596), ('<<EC>>', 655), ('<<PP>>', 4), ('<<M>>', 1), ('<<F>>', 1), ('<<IND>>', 1), ('<<S>>', 1)]\n",
      "\n",
      "Folha94\n",
      "\tQuantide de exemplos: 892874\n",
      "\tQuantide de sentenças: 44144\n",
      "\tTamanho do dicionário: 55377\n",
      "\tQuantidade de rótulos: 17\n",
      "\t10 palavras mais frequêntes: [('de', 58593), ('$,', 51514), ('a', 50296), ('o', 47278), ('$¶', 44189), ('$.', 37505), ('em', 24042), ('e', 16734), ('que', 15418), ('os', 12511)]\n",
      "\tRótulos e sua frequência: [('<<N>>', 167047), ('<<DET>>', 133487), ('<<PRP>>', 124613), ('<<V>>', 105660), ('<<PU>>', 104378), ('<<INVTAG>>', 51530), ('<<PROP>>', 50471), ('<<ADJ>>', 42809), ('<<ADV>>', 36274), ('<<NUM>>', 22190), ('<<KC>>', 20431), ('<<KS>>', 11142), ('<<PERS>>', 10291), ('<<SPEC>>', 9756), ('<<ALT>>', 2510), ('<<IN>>', 205), ('<<EC>>', 80)]\n"
     ]
    }
   ],
   "source": [
    "print('\\nQuantidade de rótulos da Folha94 em relação a Folha95: {:.4f}%'.format(sum(dict_94.values()) / sum(dict_95.values()) * 100))\n",
    "print('Quantidade de sentenças da Folha94 em relação a Folha95: {:.4f}%'.format(n_sentences_94 / n_sentences_95 * 100))\n",
    "\n",
    "print('\\nFolha95')\n",
    "print('\\tQuantide de exemplos:', sum(dict_95.values()))\n",
    "print('\\tQuantide de sentenças:', n_sentences_95)\n",
    "print('\\tTamanho do dicionário:', len(dict_95))\n",
    "print('\\tQuantidade de rótulos:', len(tags_95))\n",
    "print('\\t10 palavras mais frequêntes:', dict_95.most_common(10))\n",
    "print('\\tRótulos e sua frequência:', tags_95.most_common())\n",
    "print('\\nFolha94')\n",
    "print('\\tQuantide de exemplos:', sum(dict_94.values()))\n",
    "print('\\tQuantide de sentenças:', n_sentences_94)\n",
    "print('\\tTamanho do dicionário:', len(dict_94))\n",
    "print('\\tQuantidade de rótulos:', len(tags_94))\n",
    "print('\\t10 palavras mais frequêntes:', dict_94.most_common(10))\n",
    "print('\\tRótulos e sua frequência:', tags_94.most_common())"
   ]
  },
  {
   "cell_type": "markdown",
   "metadata": {},
   "source": [
    "Ambas bases possuem distribuições similares, porém a base de treino, a folha 95, possui 2 rótulos a mais do que a outra base sendo elas $IND$ e $S$. Porém, as 10 palavras e símbolos mais utilizas são os mesmos contendo pontuação e *stopwords*. Tais palavras e símbolos são importantes para o modelo atual já que pretendemos aprender a rotular todas as instâncias disponíveis."
   ]
  },
  {
   "cell_type": "code",
   "execution_count": 8,
   "metadata": {},
   "outputs": [
    {
     "data": {
      "text/plain": [
       "Text(0.5, 1.0, 'Frequência das tags - Folha94 (Test)')"
      ]
     },
     "execution_count": 8,
     "metadata": {},
     "output_type": "execute_result"
    },
    {
     "data": {
      "image/png": "[encoded data removed]",
      "text/plain": [
       "<Figure size 1080x1080 with 4 Axes>"
      ]
     },
     "metadata": {
      "needs_background": "light"
     },
     "output_type": "display_data"
    }
   ],
   "source": [
    "freq_dict_95 = freq = sorted(list(dict_95.values()), reverse=True)\n",
    "freq_tags_95 = freq = sorted(list(tags_95.values()), reverse=True)\n",
    "freq_dict_94 = freq = sorted(list(dict_94.values()), reverse=True)\n",
    "freq_tags_94 = freq = sorted(list(tags_94.values()), reverse=True)\n",
    "\n",
    "plt.subplots(2, 2, figsize=(15,15))\n",
    "plt.subplot(2, 2, 1)\n",
    "plt.plot(freq_dict_95)\n",
    "plt.title('Frequência das palavras - Folha95 (Train)')\n",
    "plt.xscale('log')\n",
    "plt.yscale('log')\n",
    "\n",
    "plt.subplot(2, 2, 2)\n",
    "plt.plot(freq_tags_95)\n",
    "plt.title('Frequência das tags - Folha95 (Train)')\n",
    "\n",
    "\n",
    "plt.subplot(2, 2, 3)\n",
    "plt.plot(freq_dict_94)\n",
    "plt.title('Frequência das palavras - Folha94 (Test)')\n",
    "plt.xscale('log')\n",
    "plt.yscale('log')\n",
    "\n",
    "plt.subplot(2, 2, 4)\n",
    "plt.plot(freq_tags_94)\n",
    "plt.title('Frequência das tags - Folha94 (Test)')"
   ]
  },
  {
   "cell_type": "markdown",
   "metadata": {},
   "source": [
    "O gráfico mais a esquerda representa a frequência das palavras e seu decaimento. É possível reparar que a frequência das palavras diminui de forma logarítmica, tal efeito é semelhante a *Lei de Zipf ([link](https://pt.wikipedia.org/wiki/Lei_de_Zipf)), com ressalvas para as extremidades. Já os gráficos mais a direita representam a frequência dos rótulos e seu decaimento, nesse caso o decaimento não é exponêncial e sim linear nos rótulos mais utilizados. Ambas bases de dados possuem distribuições similares já que os gráficos da parte superior são parecidos com os gráficos da parte inferior."
   ]
  },
  {
   "cell_type": "markdown",
   "metadata": {},
   "source": [
    "### Modelo escondido de Markov"
   ]
  },
  {
   "cell_type": "code",
   "execution_count": 9,
   "metadata": {},
   "outputs": [],
   "source": [
    "def train(sentences):\n",
    "    counters = collections.Counter()\n",
    "    words = set()\n",
    "    tags = set()\n",
    "    for sentence in sentences:\n",
    "        last_word = None\n",
    "        last_tag = None\n",
    "        for token in tokenize(sentence):\n",
    "            word = token[0]\n",
    "            tag = token[1]\n",
    "            # Probability of each tag\n",
    "            \n",
    "            counters[tag] += 1\n",
    "            # Emission counters\n",
    "            counters[(tag, word)] += 1\n",
    "            last_word = word\n",
    "            # Transitional counter\n",
    "            if last_tag:\n",
    "                counters[(last_tag, tag)] += 1\n",
    "            last_tag = tag\n",
    "            # Update the sets\n",
    "            tags.add(tag)\n",
    "            words.add(word)\n",
    "    # Return a model. The model is the counters and the tags and the dictionary\n",
    "    return counters, words, tags"
   ]
  },
  {
   "cell_type": "code",
   "execution_count": 10,
   "metadata": {},
   "outputs": [],
   "source": [
    "def predict(sentence, model):\n",
    "    # Use Viterbi dynamic programming\n",
    "    \n",
    "    # viterbi table\n",
    "    m = collections.defaultdict(float)\n",
    "    paths = collections.defaultdict(None)\n",
    "    # Model unpacking\n",
    "    counters, words, tags = model\n",
    "    tokens = tokenize(sentence, add_tag_cfg=False)\n",
    "    n_tokens = len(tokens)\n",
    "    # Initial probability of each tag\n",
    "    p_tag = {tag: counters[tag]/n_tokens for tag in tags}\n",
    "\n",
    "    w_0 = tokens[0]\n",
    "    for tag in tags:\n",
    "        # Construct the viterbi table for t_0\n",
    "        m[(tag, 0)] = p_tag[tag] * counters[(tag, w_0)] / counters[tag]\n",
    "    \n",
    "    # Calculate the viterbi for each time\n",
    "    for t, w in enumerate(tokens):\n",
    "        if t == 0:\n",
    "            continue\n",
    "        for to_tag in tags:\n",
    "            m[(to_tag, t)] = -1\n",
    "            for from_tag in tags:\n",
    "                tmp = m[(from_tag, t-1)] \\\n",
    "                      * counters[(from_tag, to_tag)] / counters[from_tag] \\\n",
    "                      * counters[(to_tag, w)] / counters[to_tag]\n",
    "                if tmp > m[(to_tag, t)]:\n",
    "                    m[(to_tag, t)] = tmp\n",
    "                    paths[(to_tag, t)] = from_tag\n",
    "    \n",
    "    # Build up output\n",
    "    last = {tag: paths[(tag, n_tokens - 1)] for tag in tags}\n",
    "    last = max(last, key=lambda x: last[x])\n",
    "    out = [last]\n",
    "    for t in range(n_tokens - 1, 0, -1):\n",
    "        out.append(paths[(last, t)])\n",
    "        last = paths[(last, t)]\n",
    "        \n",
    "    # return the predicitons os each elements of the sentence\n",
    "    return list(reversed(out))"
   ]
  },
  {
   "cell_type": "markdown",
   "metadata": {},
   "source": [
    "O cálculo das métricas é feita através de 3 funções, a primeira é a inicializaçao, após a acumulação e depois o cálculo das medidas. Essa divisão é necessária para que seja possível fazer predições de longas sequências de texto sem ter a necessidade de armazenas todo o resultado em memória. "
   ]
  },
  {
   "cell_type": "code",
   "execution_count": 11,
   "metadata": {},
   "outputs": [],
   "source": [
    "def score_init(model):\n",
    "    # Create the confusion matrix\n",
    "    _, _, tags = model\n",
    "    n_tags = len(tags)\n",
    "    matrix = np.zeros((n_tags, n_tags))\n",
    "    tags_idx = {tag: idx for idx, tag in enumerate(tags)}\n",
    "    \n",
    "    return tags, tags_idx, matrix, \n",
    "    \n",
    "def score_acc(labeled_predictions, score_model):\n",
    "    tags, tags_idx, matrix = score_model\n",
    "    \n",
    "    for prediction, actual in labeled_predictions:\n",
    "        actual_idx = tags_idx[actual]\n",
    "        prediction_idx = tags_idx[prediction]\n",
    "        matrix[actual_idx][prediction_idx] += 1\n",
    "    \n",
    "    return tags, tags_idx, matrix\n",
    "    \n",
    "def score_calc(score_model):\n",
    "    tags, tags_idx, matrix = score_model\n",
    "    \n",
    "    # Sum the matrix in both directions (row-wise and column-wise)\n",
    "    matrix_sum_axis_0 = matrix.sum(axis=0)\n",
    "    matrix_sum_axis_1 = matrix.sum(axis=1)\n",
    "\n",
    "    f1_func = lambda precision, recall: (2 * precision * recall) / (precision + recall)\n",
    "\n",
    "    score = {}\n",
    "    # Calculate the score for each label\n",
    "    for tag in tags:\n",
    "        idx = tags_idx[tag]\n",
    "        accuracy = matrix[idx][idx] / np.sum(matrix[idx])\n",
    "        precision = matrix[idx][idx] / matrix_sum_axis_1[idx]\n",
    "        recall = matrix[idx][idx] / matrix_sum_axis_0[idx]\n",
    "        f1 = f1_func(precision, recall)\n",
    "        score[tag] = {\n",
    "            'accuracy': accuracy,\n",
    "            'precision': precision,\n",
    "            'recall': recall,\n",
    "            'f1': f1\n",
    "        }\n",
    "    \n",
    "    # Micro averaging\n",
    "    micro_avg_precision = matrix.trace() / sum(matrix_sum_axis_1)\n",
    "    micro_avg_recall = matrix.trace() / sum(matrix_sum_axis_0)\n",
    "    micro_avg_f1 = f1_func(micro_avg_precision, micro_avg_recall)\n",
    "    score['micro-avg'] = {\n",
    "        'precision': micro_avg_precision,\n",
    "        'recall': micro_avg_recall,\n",
    "        'f1': micro_avg_f1\n",
    "    }\n",
    "\n",
    "    # Macro averaging\n",
    "    macro_avg_precision = np.mean([score[label]['precision']\n",
    "                                   for label in score.keys()])\n",
    "    macro_avg_recall = np.mean([score[label]['recall']\n",
    "                                for label in score.keys()])\n",
    "    macro_avg_f1 = f1_func(macro_avg_precision, macro_avg_recall)\n",
    "    score['macro-avg'] = {\n",
    "        'precision': macro_avg_precision,\n",
    "        'recall': macro_avg_recall,\n",
    "        'f1': macro_avg_f1\n",
    "    }\n",
    "    \n",
    "    # Return both score (per label, micro and macro) and the confusion matrix\n",
    "    return score, matrix, tags_idx,"
   ]
  },
  {
   "cell_type": "markdown",
   "metadata": {},
   "source": [
    "O experimento é realizado utilizando a base de dados `Folha95` e uma amostra das primeiras 1 milhão de linhas  da `Folha94` para validação e cálculo de métricas."
   ]
  },
  {
   "cell_type": "code",
   "execution_count": 12,
   "metadata": {},
   "outputs": [],
   "source": [
    "# Train the HMM model\n",
    "model = train(read_sentences(folha95_filepath))"
   ]
  },
  {
   "cell_type": "code",
   "execution_count": 13,
   "metadata": {},
   "outputs": [
    {
     "name": "stderr",
     "output_type": "stream",
     "text": [
      "<ipython-input-11-9078e3e8703e>:33: RuntimeWarning: invalid value encountered in double_scalars\n",
      "  accuracy = matrix[idx][idx] / np.sum(matrix[idx])\n",
      "<ipython-input-11-9078e3e8703e>:34: RuntimeWarning: invalid value encountered in double_scalars\n",
      "  precision = matrix[idx][idx] / matrix_sum_axis_1[idx]\n",
      "<ipython-input-11-9078e3e8703e>:35: RuntimeWarning: invalid value encountered in double_scalars\n",
      "  recall = matrix[idx][idx] / matrix_sum_axis_0[idx]\n"
     ]
    }
   ],
   "source": [
    "# Validate the model using Folha94\n",
    "\n",
    "score_model = score_init(model)\n",
    "#sentences = [next(read_sentences(folha95_filepath))]\n",
    "#for sentence in sentences:\n",
    "for sentence in read_sentences(folha94_filepath):\n",
    "    prediction = predict(sentence, model)\n",
    "\n",
    "    # Create a labeled prediction\n",
    "    tokens = tokenize(sentence)\n",
    "    labeled_predictions = []\n",
    "    for token, pred_tag in zip(tokens, prediction):\n",
    "        actual = token[1]\n",
    "        labeled_predictions.append((pred_tag, actual))\n",
    "\n",
    "    # Acumulate the score\n",
    "    score_model = score_acc(labeled_predictions, score_model)\n",
    "\n",
    "# Calculate the score\n",
    "score_result, matrix, tags_idx = score_calc(score_model)"
   ]
  },
  {
   "cell_type": "code",
   "execution_count": 14,
   "metadata": {},
   "outputs": [
    {
     "name": "stdout",
     "output_type": "stream",
     "text": [
      "Experimento:\n",
      "\tMicro-averaging f1=0.7749\n",
      "\n",
      "\tRótulo <<V>>: acurácia=0.8044, precisão=0.8044, revocação=0.9825, f1=0.8846\n",
      "\tRótulo <<ADV>>: acurácia=0.8056, precisão=0.8056, revocação=0.9447, f1=0.8696\n",
      "\tRótulo <<N>>: acurácia=0.7772, precisão=0.7772, revocação=0.9783, f1=0.8662\n",
      "\tRótulo <<DET>>: acurácia=0.7777, precisão=0.7777, revocação=0.9772, f1=0.8661\n",
      "\tRótulo <<PERS>>: acurácia=0.7893, precisão=0.7893, revocação=0.9214, f1=0.8503\n",
      "\tRótulo <<KC>>: acurácia=0.7364, precisão=0.7364, revocação=0.9892, f1=0.8443\n",
      "\tRótulo <<INVTAG>>: acurácia=0.7120, precisão=0.7120, revocação=1.0000, f1=0.8318\n",
      "\tRótulo <<ADJ>>: acurácia=0.7577, precisão=0.7577, revocação=0.9209, f1=0.8314\n",
      "\tRótulo <<PU>>: acurácia=0.6868, precisão=0.6868, revocação=0.9989, f1=0.8140\n",
      "\tRótulo <<NUM>>: acurácia=0.6352, precisão=0.6352, revocação=0.9820, f1=0.7714\n",
      "\tRótulo <<SPEC>>: acurácia=0.7488, precisão=0.7488, revocação=0.7915, f1=0.7696\n",
      "\tRótulo <<KS>>: acurácia=0.6124, precisão=0.6124, revocação=0.8823, f1=0.7230\n",
      "\tRótulo <<PROP>>: acurácia=0.5478, precisão=0.5478, revocação=0.9779, f1=0.7022\n",
      "\tRótulo <<PRP>>: acurácia=0.9899, precisão=0.9899, revocação=0.4002, f1=0.5700\n",
      "\tRótulo <<IN>>: acurácia=0.4488, precisão=0.4488, revocação=0.7188, f1=0.5526\n",
      "\tRótulo <<EC>>: acurácia=0.3875, precisão=0.3875, revocação=0.9394, f1=0.5487\n",
      "\tRótulo <<ALT>>: acurácia=0.2809, precisão=0.2809, revocação=0.8812, f1=0.4260\n",
      "\tRótulo <<PP>>: acurácia=nan, precisão=nan, revocação=nan, f1=nan\n",
      "\tRótulo <<S>>: acurácia=nan, precisão=nan, revocação=nan, f1=nan\n",
      "\tRótulo <<M>>: acurácia=nan, precisão=nan, revocação=nan, f1=nan\n",
      "\tRótulo <<IND>>: acurácia=nan, precisão=nan, revocação=nan, f1=nan\n",
      "\tRótulo <<F>>: acurácia=nan, precisão=nan, revocação=nan, f1=nan\n"
     ]
    }
   ],
   "source": [
    "micro_f1 = score_result['micro-avg']['f1']\n",
    "\n",
    "print('Experimento:')\n",
    "print('\\tMicro-averaging f1={:.4f}\\n'.format(micro_f1))\n",
    "\n",
    "# Sort the tags by f1\n",
    "scored_tags = sorted(tags_idx.keys(),\n",
    "                     key=lambda x: score_result[x]['f1']\n",
    "                                   if not math.isnan(score_result[x]['f1'])\n",
    "                                   else 0.0,\n",
    "                     reverse=True)\n",
    "for tag in scored_tags:\n",
    "    score = score_result[tag]\n",
    "    accuracy = score['accuracy']\n",
    "    precision = score['precision']\n",
    "    recall = score['recall']\n",
    "    f1 = score['f1']    \n",
    "    print('\\tRótulo {}: acurácia={:.4f}, precisão={:.4f}, revocação={:.4f}, f1={:.4f}'.format(tag, accuracy, precision, recall, f1))"
   ]
  },
  {
   "cell_type": "markdown",
   "metadata": {},
   "source": [
    "### Análise\n",
    "\n",
    "O experimento sobre modelo escondido de *Markov* foi realizado utilizando a base de dados `Folha95` como entrada e uma amostra da primeira 1 milhão de linhas da base de dados `Folha94` para avaliação. As bases foram divididas em sentenças delimitadas pelos símbolos $<s>$ e $</s>$; sendo que, somente sentenças maiores do que 1 unidade foram consideradas, já que o modelo necessita de ao menos 1 probabilidade de transição que é composta por no mínimo 2 variáveis.\n",
    "\n",
    "A necessidade da sub-utilização da base de dados de avaliação é devido ao modelo de predição utilizar o algorítmo de `viterbi` que possui complexidade computacional de $O(N^2T)$, sem considerar a operação $argmax$, tornado o estudo computacionalmente denso.\n",
    "\n",
    "O rótulo de cada símbolo foi extraído das bases de dados através da utilização de expressão regular buscando a primeira ocorrência de uma sequência de letras maiúsculas separadas por caracteres de espaço (como tabulação, quebra de linha e espaços).\n",
    "\n",
    "Foi identificado na base de dados `Folha95` 2 rótulos adicionais a versão completa da base `Folha94`, sendo eles `<<S>>` e `<<IND>>`, cada qual com apenas 1 ocorrência, sendo o primeiro proveniente da linha `outros\t [outro] <-sam> <fmc> IND VFIN @FMV` e o segundo da linha `\\t [] <-sam> S ACC`. Tal diferença não causa alterações significativas no resultado do experimento.\n",
    "\n",
    "Os rótulos `<<PP>>`, `<<F>>`, `<<M>>`, `<<IND>>` e `<<S>>` não foram encontradas na versão reduzida da base de dados de validaçao; e as duas últimas não encontrada na versão completa como explicado no parágrafo anterior; e portanto seu desempenho é representado como `nan` na listagem acima. Dessa lista de rótulos, apenas `<<PP>>` apareceu 4 vezes na base de testes, enquanto todos os outros apareceram apenas 1 vez, indicando sua baixa utilização nessa base de dados. Exemplos de linhas são: `em=frente\t [em=frente] PP @AS<`, `pra-\t [=para+a] <hyfen> PRP_DET F S ` e `outro\t [outro] <-sam> M `."
   ]
  },
  {
   "cell_type": "markdown",
   "metadata": {},
   "source": [
    "Os 3 rótulos com maior desempenho f1 foram `<<V>>`, `<<ADV>>`, `<<N>>`, sendo eles verbos, advérbios e substantivos, sendo que todos esses símbolos estão nos 10 mais frequêntes rótulos da base de treinamento.\n",
    "\n",
    "Os 3 rótulos com pior desempenho f1 foram `<<ALT>>`, `<<EC>>` e `<<IN>>`, sendo eles formas alternativas, prefixos e interjeicões ou representações diferentes do esperado. A última categoria tende a necessitar de uma análise semântica para identificar representaçõs diferentes do esperado e portanto modelos probabilísticos direcionados para análise sintática possuem desempenho baixa; formas alternativas possui um baixo desempenho porque seu rótulo verdadeiro é diferente desse (devido ao desempenho ruim do tokenizador) e assim sue correlação de emissão e transição é baixa. O rótulo `EC` utilizado em palavras como `pré-`, `semi-` e `ultra-` possui revocaçao alta e precisão baixa, indicando uma grande quantidade de falso-positivos.\n",
    "\n",
    "Destaca-se também o rótul\n",
    "\n",
    "A medida f1 *micro-averaging* foi utilizada devido ao não aparecimento de certas classes na base de treinamento. Seu desempenho ficou em 0.7268 favorecendo as classes mais frequêntes, como os 3 rótulos de maior desempenho, já que eles estão nas 5 classes mais utilizadas."
   ]
  }
 ],
 "metadata": {
  "kernelspec": {
   "display_name": "Python 3",
   "language": "python",
   "name": "python3"
  },
  "language_info": {
   "codemirror_mode": {
    "name": "ipython",
    "version": 3
   },
   "file_extension": ".py",
   "mimetype": "text/x-python",
   "name": "python",
   "nbconvert_exporter": "python",
   "pygments_lexer": "ipython3",
   "version": "3.8.5"
  }
 },
 "nbformat": 4,
 "nbformat_minor": 4
}
